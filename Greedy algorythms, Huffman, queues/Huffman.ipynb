{
 "cells": [
  {
   "cell_type": "code",
   "execution_count": 1,
   "metadata": {},
   "outputs": [],
   "source": [
    "#import Queue\n",
    "import collections\n",
    "import heapq\n",
    "import sys"
   ]
  },
  {
   "cell_type": "code",
   "execution_count": 2,
   "metadata": {},
   "outputs": [
    {
     "data": {
      "text/plain": [
       "'\\nif __name__ == \"__main__\":\\n    input = sys.stdin.read()\\n    strin = str(input).rstrip()\\n    if(check_same(strin)):\\n        special(strin)\\n    else:\\n        answer(strin)\\n'"
      ]
     },
     "execution_count": 2,
     "metadata": {},
     "output_type": "execute_result"
    }
   ],
   "source": [
    "import collections\n",
    "import heapq\n",
    "import sys\n",
    "\n",
    "class TreeNode(object):\n",
    "    def __init__(self, value=None, count=1, left=None, right=None, code = \"\"):\n",
    "        self.count = count\n",
    "        self.value = value\n",
    "        self.left = left\n",
    "        self.right = right\n",
    "        self.code = code\n",
    "\n",
    "    def isLeaf(self):\n",
    "        return not (self.left or self.right)\n",
    "\n",
    "    def __lt__(self, other):\n",
    "        return self.count < other.count\n",
    "\n",
    "    def __add__(self, other):\n",
    "        self.code = 0\n",
    "        other.code = 1\n",
    "        return TreeNode(None, self.count + other.count, self, other)\n",
    "\n",
    "    def __repr__(self):\n",
    "        return \"TreeNode(%r, %r)\" % (self.value, self.count)\n",
    "\n",
    "def convert_huffman_tree_to_code(node, prefix=[]):\n",
    "    code = {}\n",
    "    if node:\n",
    "        \n",
    "        prefix = prefix + [node.code]\n",
    "        if node.isLeaf():\n",
    "            code[node.value] = prefix\n",
    "        else:\n",
    "            code.update(convert_huffman_tree_to_code(node.left, prefix))\n",
    "            code.update(convert_huffman_tree_to_code(node.right, prefix))\n",
    "    return code\n",
    "\n",
    "def get_huffman_code(text):\n",
    "    counter = collections.Counter(text)\n",
    "    heap = [TreeNode(item, count) for item,count in counter.items()]\n",
    "\n",
    "    heapq.heapify(heap)\n",
    "    \n",
    "    while len(heap) >= 2:\n",
    "        heapq.heappush(heap, heapq.heappop(heap)+heapq.heappop(heap))\n",
    "\n",
    "    tree = heap[0]    \n",
    "    return convert_huffman_tree_to_code(tree)\n",
    "\n",
    "def encrypt_text(text, code):\n",
    "\n",
    "    crypted = []\n",
    "    for char in text:\n",
    "        crypted.extend(code[char])\n",
    "\n",
    "    return \"\".join(str(v) for v in crypted)\n",
    "\n",
    "def check_same(text):\n",
    "    for i in range(1, len(text)):\n",
    "        if(text[i] != text[0]):\n",
    "            return False\n",
    "    return True\n",
    "\n",
    "def answer(text):\n",
    "    code = get_huffman_code(text)\n",
    "    encrypted = encrypt_text(text, code)\n",
    "    print(len(code.keys()), end = \" \")\n",
    "    print(len(encrypted))\n",
    "    for k, v in code.items():\n",
    "        print(k, end =\": \") \n",
    "        for i in range(1, len(v)):\n",
    "            print(v[i], end =\"\")\n",
    "        print(\"\")\n",
    "    print(encrypted)\n",
    "def special(text):\n",
    "    code = get_huffman_code(text)\n",
    "    encrypted = encrypt_text(text, code)\n",
    "    print(\"1\", end = \" \")\n",
    "    print(len(text))\n",
    "    print(text[0], end = \": \")\n",
    "    print(\"0\")\n",
    "    for i in text:\n",
    "        print(\"0\", end=\"\")\n",
    "    print(\"\")\n",
    "    \n",
    "'''\n",
    "if __name__ == \"__main__\":\n",
    "    input = sys.stdin.read()\n",
    "    strin = str(input).rstrip()\n",
    "    if(check_same(strin)):\n",
    "        special(strin)\n",
    "    else:\n",
    "        answer(strin)\n",
    "'''"
   ]
  },
  {
   "cell_type": "code",
   "execution_count": 3,
   "metadata": {},
   "outputs": [
    {
     "name": "stdout",
     "output_type": "stream",
     "text": [
      "4 14\n",
      "a: 0\n",
      "b: 10\n",
      "c: 110\n",
      "d: 111\n",
      "01001100100111\n",
      "CPU times: user 0 ns, sys: 0 ns, total: 0 ns\n",
      "Wall time: 702 µs\n"
     ]
    }
   ],
   "source": [
    "%%time\n",
    "answer(\"abacabad\")\n",
    "#answer(\"bbbb\")\n",
    "#special(\"bb\")"
   ]
  },
  {
   "cell_type": "code",
   "execution_count": 4,
   "metadata": {},
   "outputs": [
    {
     "name": "stdout",
     "output_type": "stream",
     "text": [
      "\n"
     ]
    }
   ],
   "source": [
    "import collections\n",
    "import heapq\n",
    "import sys\n",
    "def decrypt_text(text, code):\n",
    "    decrypted = []\n",
    "    reverse_code = dict(zip([\"\".join([str(y) for y in v]) for v in code.values()], code.keys()))\n",
    "\n",
    "    current = \"\"\n",
    "    for c in text:\n",
    "        current += c\n",
    "        if current in reverse_code:\n",
    "            decrypted.append(reverse_code[current])\n",
    "            current = \"\"\n",
    "    return \"\".join(decrypted)\n",
    "\n",
    "def read(inp):\n",
    "    i = 0\n",
    "    code = {}\n",
    "    text = \"\"\n",
    "    for line in inp:\n",
    "        if(i == 0):\n",
    "            pass\n",
    "            #n, l = line.split(\" \")[0], line.split(\" \")[1]\n",
    "        elif(i != 0) and (len(line.split()) > 0):\n",
    "            code.update({line.split(\":\")[1]: line.split(\" \")[0]})\n",
    "        else:\n",
    "            text = line\n",
    "    return code, text\n",
    "\n",
    "if __name__ == \"__main__\":\n",
    "    inp = sys.stdin.read()\n",
    "    code, text = read(inp)\n",
    "    print(decrypt_text(text, code))"
   ]
  },
  {
   "cell_type": "code",
   "execution_count": 5,
   "metadata": {},
   "outputs": [
    {
     "ename": "TypeError",
     "evalue": "read() missing 1 required positional argument: 'inp'",
     "output_type": "error",
     "traceback": [
      "\u001b[0;31m---------------------------------------------------------------------------\u001b[0m",
      "\u001b[0;31mTypeError\u001b[0m                                 Traceback (most recent call last)",
      "\u001b[0;32m<ipython-input-5-82604d948bf9>\u001b[0m in \u001b[0;36m<module>\u001b[0;34m\u001b[0m\n\u001b[0;32m----> 1\u001b[0;31m \u001b[0mprint\u001b[0m\u001b[0;34m(\u001b[0m\u001b[0mdecrypt_text\u001b[0m\u001b[0;34m(\u001b[0m\u001b[0;34m''\u001b[0m\u001b[0;34m,\u001b[0m\u001b[0mread\u001b[0m\u001b[0;34m(\u001b[0m\u001b[0;34m)\u001b[0m\u001b[0;34m)\u001b[0m\u001b[0;34m)\u001b[0m\u001b[0;34m\u001b[0m\u001b[0;34m\u001b[0m\u001b[0m\n\u001b[0m",
      "\u001b[0;31mTypeError\u001b[0m: read() missing 1 required positional argument: 'inp'"
     ]
    }
   ],
   "source": []
  },
  {
   "cell_type": "code",
   "execution_count": 21,
   "metadata": {},
   "outputs": [
    {
     "name": "stdout",
     "output_type": "stream",
     "text": [
      "4 14\n",
      "a: 0\n",
      "b: 10\n",
      "c: 110\n",
      "d: 111\n",
      "01001100100111\n"
     ]
    }
   ],
   "source": [
    "input_data = \"4 14\\na: 0\\nb: 10\\nc: 110\\nd: 111\\n01001100100111\"\n",
    "print(input_data)"
   ]
  },
  {
   "cell_type": "code",
   "execution_count": 52,
   "metadata": {},
   "outputs": [
    {
     "name": "stdout",
     "output_type": "stream",
     "text": [
      "abacabad\n"
     ]
    }
   ],
   "source": [
    "import collections\n",
    "import heapq\n",
    "import sys\n",
    "def Decode (dic, encoded):\n",
    "    s = \"\"\n",
    "    while encoded:\n",
    "        for k in dic:\n",
    "            if encoded.startswith(k):\n",
    "                s += dic[k][:-1]\n",
    "                encoded = encoded[len(k):]\n",
    "    return s\n",
    "\n",
    "def read(inp):\n",
    "    i = 0\n",
    "    code = {}\n",
    "    text = \"\"\n",
    "    for line in inp.splitlines():\n",
    "        if(i == 0):\n",
    "            n, l = line.split(\" \")[0], line.split(\" \")[1]\n",
    "            i+=1\n",
    "        elif(i != 0) and (len(line.split()) > 1):\n",
    "            code.update({line.split(\":\")[1].lstrip(): line.split(\" \")[0]})\n",
    "        else:\n",
    "            text = line\n",
    "    return code, text\n",
    "\n",
    "if __name__ == \"__main__\":\n",
    "    inp = sys.stdin.read()\n",
    "    code, text = read(input_data)\n",
    "    print(Decode(code, text))"
   ]
  },
  {
   "cell_type": "code",
   "execution_count": 16,
   "metadata": {},
   "outputs": [
    {
     "name": "stdout",
     "output_type": "stream",
     "text": [
      "-\n",
      "--\n",
      "---\n",
      "--\n",
      "---\n",
      "--\n",
      "--\n",
      "-\n",
      "--\n",
      "---\n",
      "--\n",
      "--\n",
      "---\n",
      "--\n",
      "-\n",
      "--\n",
      "---\n",
      "--\n",
      "---\n",
      "--\n",
      "--\n",
      "-\n",
      "--\n",
      "---\n",
      "--\n",
      "--\n",
      "--\n",
      "---\n",
      "abacabad\n"
     ]
    }
   ],
   "source": [
    "d = {'0': 'a', '10': 'b', '110':'c', '111':'d'}\n",
    "enc = \"01001100100111\"\n",
    "print(Decode(d, enc))"
   ]
  },
  {
   "cell_type": "code",
   "execution_count": null,
   "metadata": {},
   "outputs": [],
   "source": []
  }
 ],
 "metadata": {
  "kernelspec": {
   "display_name": "Python 3",
   "language": "python",
   "name": "python3"
  },
  "language_info": {
   "codemirror_mode": {
    "name": "ipython",
    "version": 3
   },
   "file_extension": ".py",
   "mimetype": "text/x-python",
   "name": "python",
   "nbconvert_exporter": "python",
   "pygments_lexer": "ipython3",
   "version": "3.7.1"
  }
 },
 "nbformat": 4,
 "nbformat_minor": 2
}
