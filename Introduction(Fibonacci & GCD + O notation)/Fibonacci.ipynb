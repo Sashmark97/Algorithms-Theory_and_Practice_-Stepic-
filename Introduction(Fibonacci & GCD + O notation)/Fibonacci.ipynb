{
 "cells": [
  {
   "cell_type": "code",
   "execution_count": 29,
   "metadata": {},
   "outputs": [],
   "source": [
    "def FibonacciRecursive(n):\n",
    "    if (n == 0):\n",
    "        return 0\n",
    "    elif (n <= 1):\n",
    "        return 1\n",
    "    else:\n",
    "        return FibonacciRecursive(n - 1) + FibonacciRecursive(n - 2)"
   ]
  },
  {
   "cell_type": "code",
   "execution_count": 31,
   "metadata": {},
   "outputs": [
    {
     "name": "stdout",
     "output_type": "stream",
     "text": [
      "102334155\n",
      "CPU times: user 1min 4s, sys: 16 ms, total: 1min 4s\n",
      "Wall time: 1min 5s\n"
     ]
    }
   ],
   "source": [
    "%%time\n",
    "print(FibonacciRecursive(40))"
   ]
  },
  {
   "cell_type": "code",
   "execution_count": 22,
   "metadata": {},
   "outputs": [],
   "source": [
    "def FibonnacciTable(n):\n",
    "    F = [0, 1, 1] + [0] * (n - 2)\n",
    "    for i in range(2, n + 1):\n",
    "        F[i] = F[i - 1] + F[i - 2]\n",
    "    return F[n]"
   ]
  },
  {
   "cell_type": "code",
   "execution_count": 23,
   "metadata": {},
   "outputs": [
    {
     "name": "stdout",
     "output_type": "stream",
     "text": [
      "102334155\n",
      "CPU times: user 0 ns, sys: 0 ns, total: 0 ns\n",
      "Wall time: 106 µs\n"
     ]
    }
   ],
   "source": [
    "%%time\n",
    "print(FibonnacciTable(40))"
   ]
  },
  {
   "cell_type": "markdown",
   "metadata": {},
   "source": [
    "Задача на программирование: последняя цифра большого числа Фибоначчи\n",
    "\n",
    "\n",
    "Дано число 1≤n≤107, необходимо найти последнюю цифру n-го числа Фибоначчи.\n",
    "\n",
    "Как мы помним, числа Фибоначчи растут очень быстро, поэтому при их вычислении нужно быть аккуратным с переполнением. В данной задаче, впрочем, этой проблемы можно избежать, поскольку нас интересует только последняя цифра числа Фибоначчи: если 0≤a,b≤9 — последние цифры чисел Fi и Fi+1 соответственно, то (a+b)mod10 — последняя цифра числа Fi+2."
   ]
  },
  {
   "cell_type": "code",
   "execution_count": 34,
   "metadata": {},
   "outputs": [],
   "source": [
    "def fib_last_digit(n):\n",
    "    F = [0, 1, 1] + [0] * (n - 2)\n",
    "    for i in range(2, n + 1):\n",
    "        F[i] = (F[i - 1] + F[i - 2]) % 10\n",
    "    return F[n]"
   ]
  },
  {
   "cell_type": "code",
   "execution_count": 36,
   "metadata": {},
   "outputs": [
    {
     "name": "stdout",
     "output_type": "stream",
     "text": [
      "2\n",
      "CPU times: user 96 ms, sys: 4 ms, total: 100 ms\n",
      "Wall time: 99.4 ms\n"
     ]
    }
   ],
   "source": [
    "%%time\n",
    "print(fib_last_digit(317457))"
   ]
  },
  {
   "cell_type": "code",
   "execution_count": 121,
   "metadata": {},
   "outputs": [],
   "source": [
    "import sys\n",
    "def fib_mod(n, m):\n",
    "    '''\n",
    "    First Version\n",
    "    F = [0, 1] + [0] * (n - 2)\n",
    "    j = 0\n",
    "    for i in range(2, n + 1):\n",
    "        F[i] = ((F[i - 1] + F[i - 2]) % m)\n",
    "        j += 1\n",
    "        if ((F[i] == 1) | (F[i - 1]) == 0):\n",
    "            break\n",
    "    return F[n % j]\n",
    "    '''\n",
    "    '''\n",
    "    Second Version(correct, slow)\n",
    "    a = 0\n",
    "    b = 1\n",
    "    for i in range(0, n):\n",
    "        temp = a\n",
    "        a = b\n",
    "        b = (a + temp) % m\n",
    "    return a\n",
    "    '''   \n",
    "    a, b, c = 1, 1, 0  \n",
    "    for rec in bin(n)[3:]:\n",
    "        temp = b ** 2 % m\n",
    "        a, b, c = (a ** 2 + temp) % m, ((a + c) * b) % m, (temp + c ** 2) % m\n",
    "        if rec == '1': \n",
    "            a, b, c = (a + b) % m, a, b\n",
    "    return b"
   ]
  },
  {
   "cell_type": "code",
   "execution_count": 122,
   "metadata": {},
   "outputs": [
    {
     "name": "stdout",
     "output_type": "stream",
     "text": [
      "1\n",
      "CPU times: user 0 ns, sys: 0 ns, total: 0 ns\n",
      "Wall time: 156 µs\n"
     ]
    }
   ],
   "source": [
    "%%time\n",
    "print(fib_mod(10, 2))"
   ]
  }
 ],
 "metadata": {
  "kernelspec": {
   "display_name": "Python 3",
   "language": "python",
   "name": "python3"
  },
  "language_info": {
   "codemirror_mode": {
    "name": "ipython",
    "version": 3
   },
   "file_extension": ".py",
   "mimetype": "text/x-python",
   "name": "python",
   "nbconvert_exporter": "python",
   "pygments_lexer": "ipython3",
   "version": "3.7.1"
  }
 },
 "nbformat": 4,
 "nbformat_minor": 2
}
